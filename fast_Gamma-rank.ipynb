{
 "cells": [
  {
   "cell_type": "markdown",
   "id": "261cc87e",
   "metadata": {},
   "source": [
    "# Calculate APN function"
   ]
  },
  {
   "cell_type": "markdown",
   "id": "8287b38a",
   "metadata": {},
   "source": [
    "### Imports"
   ]
  },
  {
   "cell_type": "code",
   "execution_count": null,
   "id": "e4446676",
   "metadata": {},
   "outputs": [],
   "source": [
    "import os\n",
    "import numpy as np\n",
    "from datetime import datetime as dt\n",
    "import pandas as pd\n",
    "import json \n",
    "import random"
   ]
  },
  {
   "cell_type": "markdown",
   "id": "7da7630d",
   "metadata": {},
   "source": [
    "### Calculate the APN functions"
   ]
  },
  {
   "cell_type": "markdown",
   "id": "86a3879d",
   "metadata": {},
   "source": [
    "Let us consider the $f: \\mathbb{F}_2^n \\times \\mathbb{F}_2^n \\rightarrow \\mathbb{F}_2^n \\times \\mathbb{F}_2^n$ quadratic APN function, in the form $$f(x,y) = (xy, G(x,y)).$$"
   ]
  },
  {
   "cell_type": "markdown",
   "id": "203ad905",
   "metadata": {},
   "source": [
    "First, we need to get the possible parameters, to qualify our functions to be APNs. This is based on the theorems of Carlet, Zou-Pott and Taniguchi. All can be found in \"On some quadratic APN functions\" by Taniguchi."
   ]
  },
  {
   "cell_type": "markdown",
   "id": "e6ae75a7",
   "metadata": {},
   "source": [
    "### Used Theorems:"
   ]
  },
  {
   "cell_type": "markdown",
   "id": "c9fb3d49",
   "metadata": {},
   "source": [
    "#### Carlet\n",
    "Parameters: $n,i,j,s,t,u,v$ (or $m=i-j$)\n",
    "\n",
    "Let $n$ be an integer with $n\\geq 2$ and $i,j$ integers such that $GCD(n, i-j)=1$. Let $s, t, u, v\\in \\mathbb{F}_{2^n}$ with the condition that $s,t\\neq 0$. Set \n",
    "    $$G(x, y) = sx^{2^i+2^j}+ux^{2^i}y^{2^j} + vx^{2^j}y^{2^i} + ty^{2^i+2^j}$$\n",
    "    Then $F(x,y):=(xy, G(x,y))$ is an APN function if and only if the polynomial $$G(x, 1) = sx^{2^i+2^j} + ux^{2^i}+vx^{2^j}+t$$ has no root in $\\mathbb{F}_{2^n}$"
   ]
  },
  {
   "cell_type": "markdown",
   "id": "e474c444",
   "metadata": {},
   "source": [
    "#### Reduced Carlet\n",
    "\n",
    "The function $G(x, 1) = sx^{2^i+2^j} + ux^{2^i}+vx^{2^j}+t$ has no root over $\\mathbb{F}_{2^n}$ if and only if the degree of $GCD(x^{2^i+2^j} + x^{2^j} + t, x ^ {(2 ^ n)} - x)$ is zero."
   ]
  },
  {
   "cell_type": "markdown",
   "id": "1583ecd4",
   "metadata": {},
   "source": [
    "#### Zou-Pott (Theorem 2)\n",
    "Parameters: $n,m,\\alpha,\\sigma=2^i$\n",
    "\n",
    "Let $m,n$ be positive integers with $n\\geq 2 $ even and $GCD(m,n)=1$. \n",
    "    Let $\\alpha \\in \\mathbb{F}_{2^n}^{\\times}$ and set $\\sigma \\in Gal(\\mathbb{F}_{2^n} / \\mathbb{F}_{2})$, where $Gal(\\mathbb{F}_{2^n} / \\mathbb{F}_{2})$ is the Galois group of $\\mathbb{F}_{2^n}$ over $\\mathbb{F}_{2}$. Let $$G(x,y)=x^{2^m+1}+\\alpha y^{(2^m+1)\\sigma}.$$\n",
    "    Then $F(x,y):=(xy, G(x,y))$ is an APN function if and only if \n",
    "    $$\\alpha \\notin \\{a^{2^m+1}(t^{2^m}+t)^{1-\\sigma}|a,t\\in \\mathbb{F}_{2^n}\\}.$$"
   ]
  },
  {
   "cell_type": "markdown",
   "id": "20be97d3",
   "metadata": {},
   "source": [
    "#### Zou-Pott (Corollary 1)\n",
    "Let $m, n$ be positive integers, $n \\geq 2$ even and\n",
    "    $GCD(m, n) = 1$. Let $\\alpha \\in \\mathbb{F}_{2^n}^\\times$ and $$G(x, y) = x^{2^m+1}+\\alpha y^{(2^m+1)2^i}.$$ If $\\alpha$ is non-cubic (\n",
    "    $\\alpha \\neq t^3, \\forall t\\in \\mathbb{F}_{2^n}$) and $i$ even, then $F(x, y) := (xy, G(x, y))$ is an APN function."
   ]
  },
  {
   "cell_type": "markdown",
   "id": "c59d2517",
   "metadata": {},
   "source": [
    "#### Taniguchi (Theorem 3)\n",
    "Parameters: $n,m,a,b$\n",
    "\n",
    "Let $m, n$ be positive integers with $n \\leq 2$ and $GCD(m, n) = 1$. Let $a\\in \\mathbb{F}_{2^n}$ and\n",
    "$b\\in \\mathbb{F}_{2^n}^x$. Let us define\n",
    "$$G(x, y) = x^{2^{2^m} +2^{3^m}}+ ax^{2^{2m}} y^{2^m} + b y^{2^m +1}$$\n",
    "Then $F(x, y) := (x y, G(x, y))$ is an APN function if and only if the polynomial $$P(x) :=\n",
    "x^{2^m +1} + ax + b$$ has no root in $\\mathbb{F}_{2^n}$"
   ]
  },
  {
   "cell_type": "code",
   "execution_count": null,
   "id": "d5219287",
   "metadata": {},
   "outputs": [],
   "source": [
    "# Theorem 3\n",
    "def theorem_3(n: int) -> list:\n",
    "    '''\n",
    "    Calculates every possible parameterset (m, 1, b) based on Taniguchi's theorem for the given n.\n",
    "    \n",
    "    :param int n: power of F_2 field\n",
    "    return list: list of possible parameter sets\n",
    "    '''\n",
    "    # we may assume a=1 by Proposition 2\n",
    "    x = PolynomialRing(GF(2^n), 'x').gen()\n",
    "    list_of_parameters = []\n",
    "    mult_group = [e for e in GF(2 ^ n) if e != 0]\n",
    "\n",
    "    for m in range(n):\n",
    "        if gcd(n, m) != 1:\n",
    "            continue\n",
    "        for b in mult_group:\n",
    "            p = x ^ (2 ^ m + 1) + 1 * x + b\n",
    "            if p.roots() == []:\n",
    "                parameterset = [m, 1, b]\n",
    "                list_of_parameters.append(parameterset)\n",
    "    return list_of_parameters\n",
    "\n",
    "# Corollary 1 with i=2\n",
    "def corollary_1(n: int) -> list:\n",
    "    '''\n",
    "    Calculates every possible parameterset (alpha, m) based on Zou-Pott theorem and the corollary 1 for the given n.\n",
    "    \n",
    "    :param int n: power of F_2 field\n",
    "    return list: list of possible parametersets\n",
    "    '''\n",
    "    cubes = [t ^ 3 for t in GF(2 ^ n)]\n",
    "    mult_group = [e for e in GF(2 ^ n) if e != 0]\n",
    "    m_values = [m for m in range(1, n) if gcd(m,n) == 1]\n",
    "    params = []\n",
    "\n",
    "    P.<x,y> = PolynomialRing(GF(2 ^ n),2,order='lex')\n",
    "\n",
    "    for alpha in mult_group:\n",
    "        for m in m_values:\n",
    "            i = 2\n",
    "            if alpha not in cubes and i % 2 == 0:\n",
    "                params.append([alpha, m])\n",
    "    return params\n",
    "\n",
    "# Carlet\n",
    "def gen_carlet_params(n: int) -> list:\n",
    "    '''\n",
    "    Calculates every possible parameterset (m, s, u, v, t) based on Carlet's theorem for the given n.\n",
    "    \n",
    "    :param int n: power of F_2 field\n",
    "    return list: list of possible parametersets\n",
    "    '''\n",
    "    x = PolynomialRing(GF(2^n), 'x').gen()\n",
    "    list_of_parameters = []\n",
    "\n",
    "    for m in range(n):\n",
    "        relative_prime = gcd(n, m) == 1\n",
    "        if not relative_prime:\n",
    "            continue\n",
    "        for t in GF(2 ^ n):\n",
    "            s, u, v = 1, 0, 1\n",
    "            carlet_g1 = s * x ^ (2 ^ m + 1) + u * x ^ (2 ^ m) + v * x + t\n",
    "            if gcd(carlet_g1, x ^ (2 ^ n) - x).degree() == 0:\n",
    "                parameterset = [m, s, u, v, t]\n",
    "                list_of_parameters.append(parameterset)\n",
    "    return list_of_parameters"
   ]
  },
  {
   "cell_type": "markdown",
   "id": "585d8c8c",
   "metadata": {},
   "source": [
    "Our quadratic APN functions look like this: $f(x, y) = (xy, G(x, y))$\n",
    "After choosing the parameters, we can calculate the the image of the APN functions. First, let us calculate the $G(x,y)$ for given parameters, $x$ and $y$."
   ]
  },
  {
   "cell_type": "code",
   "execution_count": null,
   "id": "4b2d37d8",
   "metadata": {},
   "outputs": [],
   "source": [
    "def G_theorem_3(parameters: list, x, y, n: int):\n",
    "    '''\n",
    "    Calculates G(x,y) for given parameterset and field. \n",
    "    :param list parameterset: is a triple [m,a,b], implying the parameters in Taniguchi's theorem.\n",
    "    :param x: element of GF(2^n)\n",
    "    :param y: element of GF(2^n)\n",
    "    :param int n: power of F_2 field\n",
    "    return: an element of GF(2^n), G(x,y)\n",
    "    '''\n",
    "    m, a, b = parameters\n",
    "\n",
    "    g =  x ^ (2 ^ (2 * m) + 2 ^ (3 * m)) + a * x ^ (2 ^ (2 * m)) * y ^ (2 ^ m) + b * y ^ (2 ^ m + 1)\n",
    "\n",
    "    return g\n",
    "\n",
    "def G_corollary_1(parameters: list, x, y, n: int):\n",
    "    '''\n",
    "    Calculates G(x,y) for given parameterset and field. \n",
    "    :param list parameterset: [aplha, b], implying the parameters in Zou-Pott's corollary.\n",
    "    :param x: element of GF(2^n)\n",
    "    :param y: element of GF(2^n)\n",
    "    :param int n: power of F_2 field\n",
    "    return: an element of GF(2^n), G(x,y)\n",
    "    '''\n",
    "\n",
    "    alpha = parameters[0]\n",
    "    m = parameters[1]\n",
    "\n",
    "    g =  x ^ (2 ^ m + 1) + alpha * y ^ ((2 ^ m + 1) * 2 ^ 2)\n",
    "\n",
    "    return g\n",
    "\n",
    "def G_carlet(parameters: list, x, y, n: int):\n",
    "    '''\n",
    "    Calculates G(x,y) for given parameterset and field. \n",
    "    :param list parameterset: is a triple [m, s, u, v, t], implying the parameters in Carlet's theorem.\n",
    "    :param x: element of GF(2^n)\n",
    "    :param y: element of GF(2^n)\n",
    "    :param int n: power of F_2 field\n",
    "    return: an element of GF(2^n), G(x,y)\n",
    "    '''\n",
    "\n",
    "    m = parameters[0]\n",
    "    s = parameters[1]\n",
    "    u = parameters[2]\n",
    "    v = parameters[3]\n",
    "    t = parameters[4]\n",
    "\n",
    "\n",
    "    carlet_g = s * x ^ (2 ^ m + 1) + u * x ^ (2 ^ m) + v * x * y ^ (2 ^ m) + t * y ^ (2 ^ m + 1)\n",
    "\n",
    "    return carlet_g"
   ]
  },
  {
   "cell_type": "code",
   "execution_count": null,
   "id": "7304e48a",
   "metadata": {},
   "outputs": [],
   "source": [
    "quadratic_apn = {'carlet': [gen_carlet_params, G_carlet], \n",
    "                 'corollary 1': [corollary_1, G_corollary_1], \n",
    "                 'theorem 3': [theorem_3, G_theorem_3]}"
   ]
  },
  {
   "cell_type": "markdown",
   "id": "76ede187",
   "metadata": {},
   "source": [
    "We create a pd.DataFrame with $5$ columns: $(x,y,x\\cdot y,G(x, y),irep)$ , where 'irep' is the integer representation of the graph element $$(x,y,x\\cdot y,G(x,y)) \\in \\mathbb{F}_2^{4n}$$ of the APN function."
   ]
  },
  {
   "cell_type": "code",
   "execution_count": null,
   "id": "fbdb519f",
   "metadata": {},
   "outputs": [],
   "source": [
    "def create_df(function: str, n: int, how: str = 'random', paramset: list = None) -> pd.DataFrame:\n",
    "    '''\n",
    "    Creates the dataframe containing the x, y, xy, G(x,y) values and the integer representation of the graph \n",
    "        in F_2^(4n). Also it saves the dataframe to a csv file\n",
    "    \n",
    "    :param str function: Name of the quadratic APN function ('carlet', 'corollary 1', 'theorem 3')\n",
    "    :param int n: The power of the of the F_2 field of the x, y, xy, G(x,y) elements\n",
    "    \n",
    "    :param bool randomize: Defaults to True. If True, the parameterset is chosen randomly. \n",
    "        If False then the given parameter is used.\n",
    "        \n",
    "    :param str how: If 'random' then a random APN with given name and dimension is computed. \n",
    "        If 'first' then the first parameter is taken from the list. If 'custom' then the given parameter is used.\n",
    "        \n",
    "    :param list paramset: If randomize is False this should be given. It is a list of the parameters,\n",
    "        must be compatible with the function.\n",
    "    return pd.DataFrame: the dataframe containing the x, y, xy, G(x,y) values and the \n",
    "        integer representation of the graph in F_2^(4n)\n",
    "    '''\n",
    "    # Select parameter generator and G() based on the name of the APN function\n",
    "    parameter_generator = quadratic_apn[function][0]\n",
    "    G_function = quadratic_apn[function][1]\n",
    "\n",
    "    # Select the parameterset from the list of parametersets        \n",
    "    if how == 'random':\n",
    "        paramset = random.choice(parameter_generator(n))\n",
    "    elif how == 'first':\n",
    "        paramset = parameter_generator(n)[0]        \n",
    "    \n",
    "    # Create the dataframe\n",
    "    df = pd.DataFrame(columns=['x','y','xy','Gxy','irep'])\n",
    "    for x in GF(2^n):\n",
    "        for y in GF(2^n):\n",
    "            irep = x.integer_representation()*2^(3*n)+y.integer_representation()*2^(2*n)+(x*y).integer_representation()*2^n+G_function(paramset, x, y, n).integer_representation()\n",
    "            new_row = pd.Series({\n",
    "                'x': x, \n",
    "                'y': y, \n",
    "                'xy': x*y, \n",
    "                'Gxy': G_function(paramset, x, y, n),\n",
    "                'irep': irep\n",
    "            })\n",
    "            df = pd.concat([df, new_row.to_frame().T], ignore_index=True)\n",
    "\n",
    "    # Save the dataframe in csv\n",
    "    # filename = str('Gframe__function_' + str(function) + '_n=' + str(n) + '_.csv')\n",
    "    # df.to_csv(filename)\n",
    "    \n",
    "    return df"
   ]
  },
  {
   "cell_type": "code",
   "execution_count": null,
   "id": "72de2b0a",
   "metadata": {},
   "outputs": [],
   "source": [
    "create_df('carlet',3)"
   ]
  },
  {
   "cell_type": "markdown",
   "id": "a44c054b",
   "metadata": {},
   "source": [
    "# Calculate the $\\Gamma$- ranks"
   ]
  },
  {
   "cell_type": "code",
   "execution_count": null,
   "id": "3c5f72e2",
   "metadata": {},
   "outputs": [],
   "source": [
    "# The elements of s_set are n-bit integers in [0..2^n-1]\n",
    "def gammarank(s_set, n):\n",
    "    mtx = matrix(GF(2),2^n,2^n,0)\n",
    "    \n",
    "    # Update the matrix\n",
    "    for i in range(2^n):\n",
    "        for s in s_set:\n",
    "            mtx[i,i^^s] = 1\n",
    "\n",
    "    return mtx.rank()"
   ]
  },
  {
   "cell_type": "code",
   "execution_count": null,
   "id": "9973ac27",
   "metadata": {},
   "outputs": [],
   "source": [
    "n=4\n",
    "start = dt.now()\n",
    "\n",
    "df = create_df('carlet',n)\n",
    "s_set = list(df['irep'])\n",
    "rk = gammarank(s_set,4*n)\n",
    "\n",
    "end = dt.now()\n",
    "\n",
    "print(end-start)\n",
    "print(rk)"
   ]
  },
  {
   "cell_type": "code",
   "execution_count": null,
   "id": "f4e00b4d",
   "metadata": {},
   "outputs": [],
   "source": [
    "def apn_gammaranks(function, n, how = \"random\", parameterset: list = None, newfile: bool = False) -> int:\n",
    "    '''\n",
    "    Calculates the gamma rank of the APN function\n",
    "    \n",
    "    :param str function: Name of the quadratic APN function ('carlet', 'corollary 1', 'theorem 3')\n",
    "    :param int n: The power of the of the F_2 field of the x, y, xy, G(x,y) elements\n",
    "    :param str how: If 'random' then a random APN with given name and dimension is computed. \n",
    "        If 'first' then the first parameter is taken from the list. If 'custom', a parameterset needs to be given. \n",
    "        Defaults to 'random'.\n",
    "    :param list parameterset: Used only if how == 'custom'.\n",
    "    :param bool newfile: If True forces to recreate the file. It is adviced to do only if the parameterset\n",
    "        is different or important, as that information is not coded in the filename. Defaults to False.\n",
    "    \n",
    "    return int: The gamma rank of the APN function (over F_2 field)\n",
    "    '''\n",
    "    \n",
    "    filename = str('Gframe__function_' + str(function) + '_n=' + str(n) + '_.csv')\n",
    "    if not os.path.isfile(filename) or newfile:\n",
    "        create_df(function, n, how, parameterset) # takes random parameters with the given name and dimension\n",
    "    \n",
    "    # Get the s set (graph of the APN function)\n",
    "    Gdf = pd.read_csv(filename, index_col=0)\n",
    "    s_set = list(Gdf['irep'])\n",
    "    \n",
    "    return gammarank(s_set,4*n)"
   ]
  },
  {
   "cell_type": "code",
   "execution_count": null,
   "id": "d2f75c18",
   "metadata": {},
   "outputs": [],
   "source": [
    "apn_gammaranks('corollary 1', 2)"
   ]
  }
 ],
 "metadata": {
  "kernelspec": {
   "display_name": "SageMath 9.5",
   "language": "sage",
   "name": "sagemath"
  },
  "language_info": {
   "codemirror_mode": {
    "name": "ipython",
    "version": 3
   },
   "file_extension": ".py",
   "mimetype": "text/x-python",
   "name": "python",
   "nbconvert_exporter": "python",
   "pygments_lexer": "ipython3",
   "version": "3.11.2"
  }
 },
 "nbformat": 4,
 "nbformat_minor": 5
}
