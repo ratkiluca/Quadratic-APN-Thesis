{
 "cells": [
  {
   "cell_type": "markdown",
   "id": "1e0192ac",
   "metadata": {},
   "source": [
    "# Different representations of finite field elements"
   ]
  },
  {
   "cell_type": "markdown",
   "id": "80c349e0",
   "metadata": {},
   "source": [
    "### Finite field element from polinomial to integer representation"
   ]
  },
  {
   "cell_type": "code",
   "execution_count": null,
   "id": "b71a5d27",
   "metadata": {},
   "outputs": [],
   "source": [
    "A = GF(2^4) # The finite field\n",
    "a = A.random_element()\n",
    "a"
   ]
  },
  {
   "cell_type": "code",
   "execution_count": null,
   "id": "70fd6684",
   "metadata": {},
   "outputs": [],
   "source": [
    "a_int = a.integer_representation()\n",
    "a_int"
   ]
  },
  {
   "cell_type": "markdown",
   "id": "e5280391",
   "metadata": {},
   "source": [
    "### The bit representation"
   ]
  },
  {
   "cell_type": "code",
   "execution_count": null,
   "id": "55c345de",
   "metadata": {},
   "outputs": [],
   "source": [
    "type(12)"
   ]
  },
  {
   "cell_type": "code",
   "execution_count": null,
   "id": "717026b5",
   "metadata": {},
   "outputs": [],
   "source": [
    "12.bits()"
   ]
  },
  {
   "cell_type": "markdown",
   "id": "e1a0e36a",
   "metadata": {},
   "source": [
    "### Integer to polinomial representation"
   ]
  },
  {
   "cell_type": "code",
   "execution_count": null,
   "id": "dcc302c4",
   "metadata": {},
   "outputs": [],
   "source": [
    "K.<q> = GF(2^4, name='q', repr='poly')"
   ]
  },
  {
   "cell_type": "code",
   "execution_count": null,
   "id": "bbd96575",
   "metadata": {},
   "outputs": [],
   "source": [
    "b = 8\n",
    "K(b.bits())"
   ]
  }
 ],
 "metadata": {
  "kernelspec": {
   "display_name": "SageMath 9.5",
   "language": "sage",
   "name": "sagemath"
  },
  "language_info": {
   "codemirror_mode": {
    "name": "ipython",
    "version": 3
   },
   "file_extension": ".py",
   "mimetype": "text/x-python",
   "name": "python",
   "nbconvert_exporter": "python",
   "pygments_lexer": "ipython3",
   "version": "3.11.2"
  }
 },
 "nbformat": 4,
 "nbformat_minor": 5
}
